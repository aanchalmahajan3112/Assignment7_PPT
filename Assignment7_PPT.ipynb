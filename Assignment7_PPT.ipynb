{
  "nbformat": 4,
  "nbformat_minor": 0,
  "metadata": {
    "colab": {
      "provenance": []
    },
    "kernelspec": {
      "name": "python3",
      "display_name": "Python 3"
    },
    "language_info": {
      "name": "python"
    }
  },
  "cells": [
    {
      "cell_type": "code",
      "execution_count": 2,
      "metadata": {
        "colab": {
          "base_uri": "https://localhost:8080/"
        },
        "id": "8E6P30eKhFv8",
        "outputId": "74e4139e-14a7-412e-d7c2-6c6117fb8f71"
      },
      "outputs": [
        {
          "output_type": "stream",
          "name": "stdout",
          "text": [
            "True\n"
          ]
        }
      ],
      "source": [
        "\n",
        "# 💡 **Question 1**\n",
        "\n",
        "# Given two strings s and t, *determine if they are isomorphic*.\n",
        "\n",
        "# Two strings s and t are isomorphic if the characters in s can be replaced to get t.\n",
        "\n",
        "# All occurrences of a character must be replaced with another character while preserving the order of characters. No two characters may map to the same character, but a character may map to itself.\n",
        "\n",
        "# **Example 1:**\n",
        "\n",
        "# **Input:** s = \"egg\", t = \"add\"\n",
        "\n",
        "# **Output:** true\n",
        "\n",
        "\n",
        "\n",
        "def isomorphic_strings(s, t):\n",
        "    if len(s) != len(t):\n",
        "        return False\n",
        "    \n",
        "    s_to_t = {}\n",
        "    t_to_s = {}\n",
        "    \n",
        "    for char_s, char_t in zip(s, t):\n",
        "        if char_s not in s_to_t and char_t not in t_to_s:\n",
        "            s_to_t[char_s] = char_t\n",
        "            t_to_s[char_t] = char_s\n",
        "        elif s_to_t.get(char_s) != char_t or t_to_s.get(char_t) != char_s:\n",
        "            return False\n",
        "    \n",
        "    return True\n",
        "\n",
        "s = \"egg\"\n",
        "t = \"add\"\n",
        "print(isomorphic_strings(s, t))\n",
        "\n",
        "\n"
      ]
    },
    {
      "cell_type": "code",
      "source": [
        "\n",
        "# 💡 **Question 2**\n",
        "\n",
        "# Given a string num which represents an integer, return true *if* num *is a **strobogrammatic number***.\n",
        "\n",
        "# A **strobogrammatic number** is a number that looks the same when rotated 180 degrees (looked at upside down).\n",
        "\n",
        "# **Example 1:**\n",
        "\n",
        "# **Input:** num = \"69\"\n",
        "\n",
        "# **Output:**\n",
        "\n",
        "# true\n",
        "\n",
        "\n",
        "def is_strobogrammatic(num):\n",
        "    digit_mapping = {\n",
        "        '0': '0',\n",
        "        '1': '1',\n",
        "        '6': '9',\n",
        "        '8': '8',\n",
        "        '9': '6'\n",
        "    }\n",
        "    \n",
        "    left = 0\n",
        "    right = len(num) - 1\n",
        "    \n",
        "    while left <= right:\n",
        "        if num[left] not in digit_mapping or num[right] not in digit_mapping:\n",
        "            return False\n",
        "        \n",
        "        if digit_mapping[num[left]] != num[right]:\n",
        "            return False\n",
        "        \n",
        "        left += 1\n",
        "        right -= 1\n",
        "    \n",
        "    return True\n",
        "\n",
        "num = \"69\"\n",
        "print(is_strobogrammatic(num))\n"
      ],
      "metadata": {
        "colab": {
          "base_uri": "https://localhost:8080/"
        },
        "id": "RgkiC3AFhxW8",
        "outputId": "c8de1c0f-6931-41d0-abf3-5424254a5bad"
      },
      "execution_count": 3,
      "outputs": [
        {
          "output_type": "stream",
          "name": "stdout",
          "text": [
            "True\n"
          ]
        }
      ]
    },
    {
      "cell_type": "code",
      "source": [
        "\n",
        "# 💡 **Question 3**\n",
        "\n",
        "# Given two non-negative integers, num1 and num2 represented as string, return *the sum of* num1 *and* num2 *as a string*.\n",
        "\n",
        "# You must solve the problem without using any built-in library for handling large integers (such as BigInteger). You must also not convert the inputs to integers directly.\n",
        "\n",
        "# **Example 1:**\n",
        "\n",
        "# **Input:** num1 = \"11\", num2 = \"123\"\n",
        "\n",
        "# **Output:**\n",
        "\n",
        "# \"134\"\n",
        "\n",
        "\n",
        "\n",
        "def addStrings(num1, num2):\n",
        "    p1 = len(num1) - 1\n",
        "    p2 = len(num2) - 1\n",
        "    carry = 0\n",
        "    result = \"\"\n",
        "    \n",
        "    while p1 >= 0 or p2 >= 0:\n",
        "        digit_sum = carry\n",
        "        if p1 >= 0:\n",
        "            digit_sum += int(num1[p1])\n",
        "            p1 -= 1\n",
        "        if p2 >= 0:\n",
        "            digit_sum += int(num2[p2])\n",
        "            p2 -= 1\n",
        "        carry = digit_sum // 10\n",
        "        result = str(digit_sum % 10) + result\n",
        "    \n",
        "    if carry:\n",
        "        result = str(carry) + result\n",
        "    \n",
        "    return result\n",
        "\n",
        "num1 = \"11\"\n",
        "num2 = \"123\"\n",
        "print(addStrings(num1, num2))\n"
      ],
      "metadata": {
        "colab": {
          "base_uri": "https://localhost:8080/"
        },
        "id": "PdNQChWHiL6b",
        "outputId": "2d09ac85-3796-44b2-e4d0-ce0dfef6b656"
      },
      "execution_count": 4,
      "outputs": [
        {
          "output_type": "stream",
          "name": "stdout",
          "text": [
            "134\n"
          ]
        }
      ]
    },
    {
      "cell_type": "code",
      "source": [
        "\n",
        "# 💡 **Question 4**\n",
        "\n",
        "# Given a string s, reverse the order of characters in each word within a sentence while still preserving whitespace and initial word order.\n",
        "\n",
        "# **Example 1:**\n",
        "\n",
        "# **Input:** s = \"Let's take LeetCode contest\"\n",
        "\n",
        "# **Output:** \"s'teL ekat edoCteeL tsetnoc\"\n",
        "\n",
        "\n",
        "def reverseWords(s):\n",
        "    words = s.split()\n",
        "    \n",
        "    for i in range(len(words)):\n",
        "        words[i] = words[i][::-1]\n",
        "    \n",
        "    result = ' '.join(words)\n",
        "    return result\n",
        "\n",
        "s = \"Let's take LeetCode contest\"\n",
        "print(reverseWords(s))\n"
      ],
      "metadata": {
        "colab": {
          "base_uri": "https://localhost:8080/"
        },
        "id": "w4d6skEvid29",
        "outputId": "91bd460e-7583-4ff2-db47-2f8c62d47737"
      },
      "execution_count": 5,
      "outputs": [
        {
          "output_type": "stream",
          "name": "stdout",
          "text": [
            "s'teL ekat edoCteeL tsetnoc\n"
          ]
        }
      ]
    },
    {
      "cell_type": "code",
      "source": [
        "\n",
        "# 💡 **Question 5**\n",
        "\n",
        "# Given a string s and an integer k, reverse the first k characters for every 2k characters counting from the start of the string.\n",
        "\n",
        "# If there are fewer than k characters left, reverse all of them. If there are less than 2k but greater than or equal to k characters, then reverse the first k characters and leave the other as original.\n",
        "\n",
        "# **Example 1:**\n",
        "\n",
        "# **Input:** s = \"abcdefg\", k = 2\n",
        "\n",
        "# **Output:**\n",
        "\n",
        "# \"bacdfeg\"\n",
        "\n",
        "\n",
        "def reverseStr(s, k):\n",
        "    result = []\n",
        "    \n",
        "    for i in range(0, len(s), 2*k):\n",
        "        chunk = s[i:i+2*k]\n",
        "        reversed_chunk = chunk[:k][::-1] + chunk[k:]\n",
        "        result.append(reversed_chunk)\n",
        "    \n",
        "    output = ''.join(result)\n",
        "    return output\n",
        "\n",
        "s = \"abcdefg\"\n",
        "k = 2\n",
        "print(reverseStr(s, k))\n",
        "\n"
      ],
      "metadata": {
        "colab": {
          "base_uri": "https://localhost:8080/"
        },
        "id": "04Piq6w-i5vx",
        "outputId": "604ea052-4fe1-4f4a-c152-dcdf5bbb4842"
      },
      "execution_count": 6,
      "outputs": [
        {
          "output_type": "stream",
          "name": "stdout",
          "text": [
            "bacdfeg\n"
          ]
        }
      ]
    },
    {
      "cell_type": "code",
      "source": [
        "\n",
        "# 💡 **Question 6**\n",
        "\n",
        "# Given two strings s and goal, return true *if and only if* s *can become* goal *after some number of **shifts** on* s.\n",
        "\n",
        "# A **shift** on s consists of moving the leftmost character of s to the rightmost position.\n",
        "\n",
        "# - For example, if s = \"abcde\", then it will be \"bcdea\" after one shift.\n",
        "\n",
        "# **Example 1:**\n",
        "\n",
        "# **Input:** s = \"abcde\", goal = \"cdeab\"\n",
        "\n",
        "# **Output:**\n",
        "\n",
        "# true\n",
        "\n",
        "\n",
        "def rotateString(s, goal):\n",
        "    if len(s) != len(goal):\n",
        "        return False\n",
        "    \n",
        "    concatenated = s + s\n",
        "    if goal in concatenated:\n",
        "        return True\n",
        "    else:\n",
        "        return False\n",
        "\n",
        "s = \"abcde\"\n",
        "goal = \"cdeab\"\n",
        "print(rotateString(s, goal))\n"
      ],
      "metadata": {
        "colab": {
          "base_uri": "https://localhost:8080/"
        },
        "id": "Wrfh_XSdjNY5",
        "outputId": "372609ce-408f-4840-d6d4-aae48a3961d4"
      },
      "execution_count": 7,
      "outputs": [
        {
          "output_type": "stream",
          "name": "stdout",
          "text": [
            "True\n"
          ]
        }
      ]
    },
    {
      "cell_type": "code",
      "source": [
        "\n",
        "# 💡 **Question 7**\n",
        "\n",
        "# Given two strings s and t, return true *if they are equal when both are typed into empty text editors*. '#' means a backspace character.\n",
        "\n",
        "# Note that after backspacing an empty text, the text will continue empty.\n",
        "\n",
        "# **Example 1:**\n",
        "\n",
        "# **Input:** s = \"ab#c\", t = \"ad#c\"\n",
        "\n",
        "# **Output:** true\n",
        "\n",
        "# **Explanation:**\n",
        "\n",
        "# Both s and t become \"ac\".\n",
        "\n",
        "\n",
        "def backspaceCompare(s, t):\n",
        "    stack_s = []\n",
        "    stack_t = []\n",
        "    \n",
        "    for char in s:\n",
        "        if char != '#':\n",
        "            stack_s.append(char)\n",
        "        elif stack_s:\n",
        "            stack_s.pop()\n",
        "    \n",
        "    for char in t:\n",
        "        if char != '#':\n",
        "            stack_t.append(char)\n",
        "        elif stack_t:\n",
        "            stack_t.pop()\n",
        "    \n",
        "    return stack_s == stack_t\n",
        "\n",
        "s = \"ab#c\"\n",
        "t = \"ad#c\"\n",
        "print(backspaceCompare(s, t))\n"
      ],
      "metadata": {
        "colab": {
          "base_uri": "https://localhost:8080/"
        },
        "id": "KjfkOKk8jx8m",
        "outputId": "53b4a088-5546-4612-a74e-882ac3fc867d"
      },
      "execution_count": 8,
      "outputs": [
        {
          "output_type": "stream",
          "name": "stdout",
          "text": [
            "True\n"
          ]
        }
      ]
    },
    {
      "cell_type": "code",
      "source": [
        "# 💡 **Question 8**\n",
        "\n",
        "# You are given an array coordinates, coordinates[i] = [x, y], where [x, y] represents the coordinate of a point. Check if these points make a straight line in the XY plane.\n",
        "\n",
        "# **Example 1:**\n",
        "\n",
        "# **Input:** coordinates = [[1,2],[2,3],[3,4],[4,5],[5,6],[6,7]]\n",
        "\n",
        "# **Output:** true\n",
        "\n",
        "\n",
        "def checkStraightLine(coordinates):\n",
        "    if len(coordinates) <= 2:\n",
        "        return True\n",
        "    \n",
        "    x0, y0 = coordinates[0]\n",
        "    x1, y1 = coordinates[1]\n",
        "    reference_slope = (y1 - y0) / (x1 - x0)\n",
        "    \n",
        "    for i in range(2, len(coordinates)):\n",
        "        x, y = coordinates[i]\n",
        "        current_slope = (y - y1) / (x - x1)\n",
        "        \n",
        "        if current_slope != reference_slope:\n",
        "            return False\n",
        "        \n",
        "        x1, y1 = x, y\n",
        "    \n",
        "    return True\n",
        "\n",
        "coordinates = [[1,2],[2,3],[3,4],[4,5],[5,6],[6,7]]\n",
        "print(checkStraightLine(coordinates))\n"
      ],
      "metadata": {
        "colab": {
          "base_uri": "https://localhost:8080/"
        },
        "id": "e0EkMnqNkE23",
        "outputId": "d4832050-a709-436a-ae86-debdefaab2c8"
      },
      "execution_count": 9,
      "outputs": [
        {
          "output_type": "stream",
          "name": "stdout",
          "text": [
            "True\n"
          ]
        }
      ]
    }
  ]
}